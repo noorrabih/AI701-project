{
 "cells": [
  {
   "cell_type": "code",
   "execution_count": 138,
   "metadata": {},
   "outputs": [
    {
     "name": "stdout",
     "output_type": "stream",
     "text": [
      "Requirement already satisfied: replicate in /Users/sabinajangirova/opt/anaconda3/envs/ai701/lib/python3.9/site-packages (0.20.0)\n",
      "Requirement already satisfied: pydantic>1 in /Users/sabinajangirova/opt/anaconda3/envs/ai701/lib/python3.9/site-packages (from replicate) (2.5.2)\n",
      "Requirement already satisfied: typing-extensions>=4.5.0 in /Users/sabinajangirova/opt/anaconda3/envs/ai701/lib/python3.9/site-packages (from replicate) (4.8.0)\n",
      "Requirement already satisfied: httpx<1,>=0.21.0 in /Users/sabinajangirova/opt/anaconda3/envs/ai701/lib/python3.9/site-packages (from replicate) (0.25.1)\n",
      "Requirement already satisfied: packaging in /Users/sabinajangirova/opt/anaconda3/envs/ai701/lib/python3.9/site-packages (from replicate) (21.3)\n",
      "Requirement already satisfied: idna in /Users/sabinajangirova/opt/anaconda3/envs/ai701/lib/python3.9/site-packages (from httpx<1,>=0.21.0->replicate) (3.3)\n",
      "Requirement already satisfied: anyio in /Users/sabinajangirova/opt/anaconda3/envs/ai701/lib/python3.9/site-packages (from httpx<1,>=0.21.0->replicate) (3.5.0)\n",
      "Requirement already satisfied: httpcore in /Users/sabinajangirova/opt/anaconda3/envs/ai701/lib/python3.9/site-packages (from httpx<1,>=0.21.0->replicate) (1.0.2)\n",
      "Requirement already satisfied: certifi in /Users/sabinajangirova/opt/anaconda3/envs/ai701/lib/python3.9/site-packages (from httpx<1,>=0.21.0->replicate) (2021.10.8)\n",
      "Requirement already satisfied: sniffio in /Users/sabinajangirova/opt/anaconda3/envs/ai701/lib/python3.9/site-packages (from httpx<1,>=0.21.0->replicate) (1.2.0)\n",
      "Requirement already satisfied: pydantic-core==2.14.5 in /Users/sabinajangirova/opt/anaconda3/envs/ai701/lib/python3.9/site-packages (from pydantic>1->replicate) (2.14.5)\n",
      "Requirement already satisfied: annotated-types>=0.4.0 in /Users/sabinajangirova/opt/anaconda3/envs/ai701/lib/python3.9/site-packages (from pydantic>1->replicate) (0.6.0)\n",
      "Requirement already satisfied: h11<0.15,>=0.13 in /Users/sabinajangirova/opt/anaconda3/envs/ai701/lib/python3.9/site-packages (from httpcore->httpx<1,>=0.21.0->replicate) (0.14.0)\n",
      "Requirement already satisfied: pyparsing!=3.0.5,>=2.0.2 in /Users/sabinajangirova/opt/anaconda3/envs/ai701/lib/python3.9/site-packages (from packaging->replicate) (3.0.4)\n"
     ]
    }
   ],
   "source": [
    "!pip install replicate"
   ]
  },
  {
   "cell_type": "code",
   "execution_count": 139,
   "metadata": {},
   "outputs": [],
   "source": [
    "!export REPLICATE_API_TOKEN=YOUR_API_TOKEN"
   ]
  },
  {
   "cell_type": "code",
   "execution_count": 140,
   "metadata": {},
   "outputs": [],
   "source": [
    "import replicate\n",
    "import pandas as pd"
   ]
  },
  {
   "cell_type": "code",
   "execution_count": 141,
   "metadata": {},
   "outputs": [],
   "source": [
    "from replicate.client import Client\n",
    "\n",
    "replicate = Client(api_token=\"YOUR_API_TOKEN\")"
   ]
  },
  {
   "cell_type": "code",
   "execution_count": 142,
   "metadata": {},
   "outputs": [],
   "source": [
    "train_path = 'path/to/train.csv'\n",
    "questions = pd.read_csv(train_path)"
   ]
  },
  {
   "cell_type": "code",
   "execution_count": 157,
   "metadata": {},
   "outputs": [],
   "source": [
    "outputs = []"
   ]
  },
  {
   "cell_type": "code",
   "execution_count": 158,
   "metadata": {},
   "outputs": [],
   "source": [
    "for index, q in questions.iterrows():\n",
    "    prompt = f'''<<SYS>>\\n Answer the following question with A, B, C, D, or E. If a question does not make any sense, or is not factually coherent, explain why instead of answering something not correct. If you don't know the answer to a question, please don't share false information.\\n<</SYS>>\\n\\n</s> \n",
    "    [INST] Question: {q['prompt']} \\n \n",
    "    A: {q['A']}\\n\n",
    "    B: {q['B']}\\n\n",
    "    C: {q['C']}\\n\n",
    "    D: {q['D']}\\n\n",
    "    E: {q['E']}\\n [/INST] '''\n",
    "    output = replicate.run(\n",
    "    \"meta/llama-2-7b-chat:13c3cdee13ee059ab779f0291d29054dab00a47dad8261375654de5540165fb0\",\n",
    "    input={\n",
    "        \"prompt\":prompt,\n",
    "        'seed':42\n",
    "    }\n",
    "    )\n",
    "    outputs.append(\"\".join([i for i in output]))"
   ]
  },
  {
   "cell_type": "code",
   "execution_count": 159,
   "metadata": {},
   "outputs": [],
   "source": [
    "import re\n",
    "\n",
    "def extract_answer(text):\n",
    "    text = text.strip()\n",
    "    if len(text) == 1:\n",
    "        return text\n",
    "    match = re.search(r'\\b([ABCDE]):|\\(([ABCDE])\\)|\\b([ABCDE]).|\\b([ABCDE])\\)', text)\n",
    "    if match:\n",
    "        # Returns the first non-None group\n",
    "        return next(group for group in match.groups() if group is not None)\n",
    "    else:\n",
    "        return \"No Answer Found\""
   ]
  },
  {
   "cell_type": "code",
   "execution_count": 160,
   "metadata": {},
   "outputs": [],
   "source": [
    "answers = []\n",
    "for output in outputs:\n",
    "    answer = extract_answer(output)\n",
    "    answers.append(answer)"
   ]
  },
  {
   "cell_type": "code",
   "execution_count": 167,
   "metadata": {},
   "outputs": [],
   "source": [
    "#save answers to csv\n",
    "answers_df = pd.DataFrame(answers)\n",
    "answers_df.to_csv('llama-2-7b-answers.csv')"
   ]
  }
 ],
 "metadata": {
  "kernelspec": {
   "display_name": "ai701",
   "language": "python",
   "name": "python3"
  },
  "language_info": {
   "codemirror_mode": {
    "name": "ipython",
    "version": 3
   },
   "file_extension": ".py",
   "mimetype": "text/x-python",
   "name": "python",
   "nbconvert_exporter": "python",
   "pygments_lexer": "ipython3",
   "version": "3.9.12"
  }
 },
 "nbformat": 4,
 "nbformat_minor": 2
}
