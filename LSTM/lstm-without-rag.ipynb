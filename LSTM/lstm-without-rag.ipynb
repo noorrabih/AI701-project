{
 "cells": [
  {
   "cell_type": "code",
   "execution_count": 1,
   "id": "54f47c7b",
   "metadata": {
    "_cell_guid": "b1076dfc-b9ad-4769-8c92-a6c4dae69d19",
    "_uuid": "8f2839f25d086af736a60e9eeb907d3b93b6e0e5",
    "execution": {
     "iopub.execute_input": "2023-11-19T23:32:50.718526Z",
     "iopub.status.busy": "2023-11-19T23:32:50.717896Z",
     "iopub.status.idle": "2023-11-19T23:32:50.749318Z",
     "shell.execute_reply": "2023-11-19T23:32:50.748486Z"
    },
    "papermill": {
     "duration": 0.042485,
     "end_time": "2023-11-19T23:32:50.751818",
     "exception": false,
     "start_time": "2023-11-19T23:32:50.709333",
     "status": "completed"
    },
    "tags": []
   },
   "outputs": [
    {
     "name": "stdout",
     "output_type": "stream",
     "text": [
      "/kaggle/input/kaggle-llm-science-exam/sample_submission.csv\n",
      "/kaggle/input/kaggle-llm-science-exam/train.csv\n",
      "/kaggle/input/kaggle-llm-science-exam/test.csv\n",
      "/kaggle/input/additional-train-data-for-llm-science-exam/6000_train_examples.csv\n",
      "/kaggle/input/additional-train-data-for-llm-science-exam/extra_train_set.csv\n",
      "/kaggle/input/bert/tensorflow2/en-uncased-preprocess/3/saved_model.pb\n",
      "/kaggle/input/bert/tensorflow2/en-uncased-preprocess/3/keras_metadata.pb\n",
      "/kaggle/input/bert/tensorflow2/en-uncased-preprocess/3/assets/vocab.txt\n",
      "/kaggle/input/bert/tensorflow2/en-uncased-preprocess/3/variables/variables.index\n",
      "/kaggle/input/bert/tensorflow2/en-uncased-preprocess/3/variables/variables.data-00000-of-00001\n",
      "/kaggle/input/bert/tensorflow2/bert-en-uncased-l-12-h-768-a-12/2/saved_model.pb\n",
      "/kaggle/input/bert/tensorflow2/bert-en-uncased-l-12-h-768-a-12/2/keras_metadata.pb\n",
      "/kaggle/input/bert/tensorflow2/bert-en-uncased-l-12-h-768-a-12/2/assets/vocab.txt\n",
      "/kaggle/input/bert/tensorflow2/bert-en-uncased-l-12-h-768-a-12/2/variables/variables.index\n",
      "/kaggle/input/bert/tensorflow2/bert-en-uncased-l-12-h-768-a-12/2/variables/variables.data-00000-of-00001\n",
      "/kaggle/input/15k-high-quality-examples/5900_examples.csv\n",
      "/kaggle/input/15k-high-quality-examples/15k_gpt3.5-turbo.csv\n",
      "/kaggle/input/sci-or-not-sci-hypthesis-testing-pack/6000_wiki_en_sci_questions_with_excerpts.csv\n",
      "/kaggle/input/sci-or-not-sci-hypthesis-testing-pack/6000_all_categories_questions.csv\n",
      "/kaggle/input/sci-or-not-sci-hypthesis-testing-pack/6000_all_categories_questions_with_excerpts.csv\n",
      "/kaggle/input/sci-or-not-sci-hypthesis-testing-pack/6000_wiki_en_sci_questions.csv\n"
     ]
    }
   ],
   "source": [
    "# This Python 3 environment comes with many helpful analytics libraries installed\n",
    "# It is defined by the kaggle/python Docker image: https://github.com/kaggle/docker-python\n",
    "# For example, here's several helpful packages to load\n",
    "\n",
    "import numpy as np # linear algebra\n",
    "import pandas as pd # data processing, CSV file I/O (e.g. pd.read_csv)\n",
    "\n",
    "# Input data files are available in the read-only \"../input/\" directory\n",
    "# For example, running this (by clicking run or pressing Shift+Enter) will list all files under the input directory\n",
    "\n",
    "import os\n",
    "for dirname, _, filenames in os.walk('/kaggle/input'):\n",
    "    for filename in filenames:\n",
    "        print(os.path.join(dirname, filename))\n",
    "\n",
    "# You can write up to 20GB to the current directory (/kaggle/working/) that gets preserved as output when you create a version using \"Save & Run All\" \n",
    "# You can also write temporary files to /kaggle/temp/, but they won't be saved outside of the current session"
   ]
  },
  {
   "cell_type": "markdown",
   "id": "df0d61e1",
   "metadata": {
    "papermill": {
     "duration": 0.006808,
     "end_time": "2023-11-19T23:32:50.766191",
     "exception": false,
     "start_time": "2023-11-19T23:32:50.759383",
     "status": "completed"
    },
    "tags": []
   },
   "source": [
    "**SETTING**"
   ]
  },
  {
   "cell_type": "code",
   "execution_count": 2,
   "id": "8d25e8c2",
   "metadata": {
    "execution": {
     "iopub.execute_input": "2023-11-19T23:32:50.781180Z",
     "iopub.status.busy": "2023-11-19T23:32:50.780933Z",
     "iopub.status.idle": "2023-11-19T23:32:59.072480Z",
     "shell.execute_reply": "2023-11-19T23:32:59.071383Z"
    },
    "papermill": {
     "duration": 8.301878,
     "end_time": "2023-11-19T23:32:59.074985",
     "exception": false,
     "start_time": "2023-11-19T23:32:50.773107",
     "status": "completed"
    },
    "tags": []
   },
   "outputs": [
    {
     "name": "stderr",
     "output_type": "stream",
     "text": [
      "/opt/conda/lib/python3.10/site-packages/scipy/__init__.py:146: UserWarning: A NumPy version >=1.16.5 and <1.23.0 is required for this version of SciPy (detected version 1.23.5\n",
      "  warnings.warn(f\"A NumPy version >={np_minversion} and <{np_maxversion}\"\n",
      "/opt/conda/lib/python3.10/site-packages/tensorflow_io/python/ops/__init__.py:98: UserWarning: unable to load libtensorflow_io_plugins.so: unable to open file: libtensorflow_io_plugins.so, from paths: ['/opt/conda/lib/python3.10/site-packages/tensorflow_io/python/ops/libtensorflow_io_plugins.so']\n",
      "caused by: ['/opt/conda/lib/python3.10/site-packages/tensorflow_io/python/ops/libtensorflow_io_plugins.so: undefined symbol: _ZN3tsl6StatusC1EN10tensorflow5error4CodeESt17basic_string_viewIcSt11char_traitsIcEENS_14SourceLocationE']\n",
      "  warnings.warn(f\"unable to load libtensorflow_io_plugins.so: {e}\")\n",
      "/opt/conda/lib/python3.10/site-packages/tensorflow_io/python/ops/__init__.py:104: UserWarning: file system plugins are not loaded: unable to open file: libtensorflow_io.so, from paths: ['/opt/conda/lib/python3.10/site-packages/tensorflow_io/python/ops/libtensorflow_io.so']\n",
      "caused by: ['/opt/conda/lib/python3.10/site-packages/tensorflow_io/python/ops/libtensorflow_io.so: undefined symbol: _ZTVN10tensorflow13GcsFileSystemE']\n",
      "  warnings.warn(f\"file system plugins are not loaded: {e}\")\n"
     ]
    }
   ],
   "source": [
    "import keras\n",
    "import tensorflow as tf\n",
    "import tensorflow_hub as hub\n",
    "import tensorflow_text as text\n",
    "from tensorflow.keras.utils import to_categorical\n",
    "from sklearn.metrics import classification_report\n",
    "import random\n",
    "from sklearn.model_selection import KFold\n",
    "from tensorflow.keras.layers import concatenate"
   ]
  },
  {
   "cell_type": "code",
   "execution_count": 3,
   "id": "76898545",
   "metadata": {
    "execution": {
     "iopub.execute_input": "2023-11-19T23:32:59.091564Z",
     "iopub.status.busy": "2023-11-19T23:32:59.090978Z",
     "iopub.status.idle": "2023-11-19T23:32:59.095594Z",
     "shell.execute_reply": "2023-11-19T23:32:59.094695Z"
    },
    "papermill": {
     "duration": 0.014798,
     "end_time": "2023-11-19T23:32:59.097433",
     "exception": false,
     "start_time": "2023-11-19T23:32:59.082635",
     "status": "completed"
    },
    "tags": []
   },
   "outputs": [],
   "source": [
    "LABEL_DICT = {\"A\":0,'B':1,'C':2,'D':3,'E':4}"
   ]
  },
  {
   "cell_type": "code",
   "execution_count": 4,
   "id": "aa0ee9ec",
   "metadata": {
    "execution": {
     "iopub.execute_input": "2023-11-19T23:32:59.113132Z",
     "iopub.status.busy": "2023-11-19T23:32:59.112862Z",
     "iopub.status.idle": "2023-11-19T23:32:59.127700Z",
     "shell.execute_reply": "2023-11-19T23:32:59.126910Z"
    },
    "papermill": {
     "duration": 0.025025,
     "end_time": "2023-11-19T23:32:59.129737",
     "exception": false,
     "start_time": "2023-11-19T23:32:59.104712",
     "status": "completed"
    },
    "tags": []
   },
   "outputs": [],
   "source": [
    "def read_data(path,check_test= False):\n",
    "    df = pd.read_csv(path[0])\n",
    "    if not check_test:\n",
    "        lst = ['prompt','A','B','C','D','E','answer']\n",
    "        df = df[lst]\n",
    "        for i in path[1:]:\n",
    "            newdf = pd.read_csv(i)[lst]\n",
    "            df = df.append(newdf)\n",
    "        df.reset_index(drop=True, inplace=True)\n",
    "    X_Prompt = tf.convert_to_tensor(df.prompt.to_list()) \n",
    "    X_A = tf.convert_to_tensor(df.A.to_list())\n",
    "    X_B = tf.convert_to_tensor(df.B.to_list())\n",
    "    X_C = tf.convert_to_tensor(df.C.to_list())\n",
    "    X_D = tf.convert_to_tensor(df.D.to_list())\n",
    "    X_E = tf.convert_to_tensor(df.E.to_list())  \n",
    "    \n",
    "    Selects = {'A':X_A,\"B\":X_B,\"C\":X_C,'D':X_D,'E':X_E}\n",
    "    \n",
    "    Labels = labels_one_hot = None\n",
    "    \n",
    "    \n",
    "    if not check_test:\n",
    "        labels = df.answer.to_list()\n",
    "        labels_one_hot = [LABEL_DICT.get(i) for i in labels]\n",
    "\n",
    "        label_A = []\n",
    "        label_B = []\n",
    "        label_C = []\n",
    "        label_D = []\n",
    "        label_E = []\n",
    "\n",
    "        for i in labels:\n",
    "            if i =='A':\n",
    "                label_A.append(0.8)\n",
    "                label_B.append(0.05)\n",
    "                label_C.append(0.05)\n",
    "                label_D.append(0.05)  \n",
    "                label_E.append(0.05)\n",
    "            if i =='B':\n",
    "                label_B.append(0.8)\n",
    "                label_A.append(0.05)\n",
    "                label_C.append(0.05)\n",
    "                label_D.append(0.05)  \n",
    "                label_E.append(0.05)\n",
    "\n",
    "            if i =='C':\n",
    "                label_C.append(0.8)\n",
    "                label_A.append(0.05)\n",
    "                label_B.append(0.05)\n",
    "                label_D.append(0.05)  \n",
    "                label_E.append(0.05)\n",
    "            if i =='D':\n",
    "                label_D.append(0.8)\n",
    "                label_A.append(0.05)\n",
    "                label_B.append(0.05)\n",
    "                label_C.append(0.05) \n",
    "                label_E.append(0.05)\n",
    "            if i =='E':\n",
    "                label_E.append(0.8)\n",
    "                label_A.append(0.05)\n",
    "                label_B.append(0.05)\n",
    "                label_C.append(0.05)\n",
    "                label_D.append(0.05)  \n",
    "        label_A = tf.convert_to_tensor(label_A)\n",
    "        label_B = tf.convert_to_tensor(label_B)\n",
    "        label_C = tf.convert_to_tensor(label_C)\n",
    "        label_D = tf.convert_to_tensor(label_D)\n",
    "        label_E = tf.convert_to_tensor(label_E)\n",
    "\n",
    "\n",
    "        Labels  = {'A': label_A,'B': label_B,'C': label_C,'D': label_D,'E': label_E}\n",
    "    \n",
    "    return {'Prompt':X_Prompt,'Selects':Selects,'labels':Labels,'label_onehot':labels_one_hot}"
   ]
  },
  {
   "cell_type": "markdown",
   "id": "6ed6b018",
   "metadata": {
    "papermill": {
     "duration": 0.00708,
     "end_time": "2023-11-19T23:32:59.144196",
     "exception": false,
     "start_time": "2023-11-19T23:32:59.137116",
     "status": "completed"
    },
    "tags": []
   },
   "source": [
    "**INPUT TRAIN**"
   ]
  },
  {
   "cell_type": "markdown",
   "id": "90e25b12",
   "metadata": {
    "papermill": {
     "duration": 0.007111,
     "end_time": "2023-11-19T23:32:59.158603",
     "exception": false,
     "start_time": "2023-11-19T23:32:59.151492",
     "status": "completed"
    },
    "tags": []
   },
   "source": [
    "*4 thread model*"
   ]
  },
  {
   "cell_type": "markdown",
   "id": "5e9c9640",
   "metadata": {
    "papermill": {
     "duration": 0.007127,
     "end_time": "2023-11-19T23:32:59.173027",
     "exception": false,
     "start_time": "2023-11-19T23:32:59.165900",
     "status": "completed"
    },
    "tags": []
   },
   "source": [
    "*Binary model*"
   ]
  },
  {
   "cell_type": "code",
   "execution_count": 5,
   "id": "386116fb",
   "metadata": {
    "execution": {
     "iopub.execute_input": "2023-11-19T23:32:59.188990Z",
     "iopub.status.busy": "2023-11-19T23:32:59.188674Z",
     "iopub.status.idle": "2023-11-19T23:32:59.192722Z",
     "shell.execute_reply": "2023-11-19T23:32:59.191916Z"
    },
    "papermill": {
     "duration": 0.014302,
     "end_time": "2023-11-19T23:32:59.194614",
     "exception": false,
     "start_time": "2023-11-19T23:32:59.180312",
     "status": "completed"
    },
    "tags": []
   },
   "outputs": [],
   "source": [
    "path_train = ['/kaggle/input/additional-train-data-for-llm-science-exam/extra_train_set.csv', '/kaggle/input/additional-train-data-for-llm-science-exam/6000_train_examples.csv']\n"
   ]
  },
  {
   "cell_type": "code",
   "execution_count": 6,
   "id": "155ea00e",
   "metadata": {
    "execution": {
     "iopub.execute_input": "2023-11-19T23:32:59.211599Z",
     "iopub.status.busy": "2023-11-19T23:32:59.210837Z",
     "iopub.status.idle": "2023-11-19T23:33:02.117830Z",
     "shell.execute_reply": "2023-11-19T23:33:02.116792Z"
    },
    "papermill": {
     "duration": 2.917689,
     "end_time": "2023-11-19T23:33:02.119910",
     "exception": false,
     "start_time": "2023-11-19T23:32:59.202221",
     "status": "completed"
    },
    "tags": []
   },
   "outputs": [
    {
     "name": "stderr",
     "output_type": "stream",
     "text": [
      "/tmp/ipykernel_26/3473268617.py:8: FutureWarning: The frame.append method is deprecated and will be removed from pandas in a future version. Use pandas.concat instead.\n",
      "  df = df.append(newdf)\n"
     ]
    }
   ],
   "source": [
    "result = read_data(path_train,False)\n",
    "X_Prompt = result.get('Prompt') \n",
    "X_A = result.get('Selects').get('A')\n",
    "X_B = result.get('Selects').get('B')\n",
    "X_C = result.get('Selects').get('C')\n",
    "X_D = result.get('Selects').get('D')\n",
    "X_E = result.get('Selects').get('E')"
   ]
  },
  {
   "cell_type": "code",
   "execution_count": 7,
   "id": "408829bc",
   "metadata": {
    "execution": {
     "iopub.execute_input": "2023-11-19T23:33:02.136788Z",
     "iopub.status.busy": "2023-11-19T23:33:02.136164Z",
     "iopub.status.idle": "2023-11-19T23:33:02.140517Z",
     "shell.execute_reply": "2023-11-19T23:33:02.139655Z"
    },
    "papermill": {
     "duration": 0.014697,
     "end_time": "2023-11-19T23:33:02.142397",
     "exception": false,
     "start_time": "2023-11-19T23:33:02.127700",
     "status": "completed"
    },
    "tags": []
   },
   "outputs": [],
   "source": [
    "Selects = [result.get('Selects')[i] for i in result.get('Selects') ]"
   ]
  },
  {
   "cell_type": "code",
   "execution_count": 8,
   "id": "91953b20",
   "metadata": {
    "execution": {
     "iopub.execute_input": "2023-11-19T23:33:02.158502Z",
     "iopub.status.busy": "2023-11-19T23:33:02.158239Z",
     "iopub.status.idle": "2023-11-19T23:33:02.162063Z",
     "shell.execute_reply": "2023-11-19T23:33:02.161295Z"
    },
    "papermill": {
     "duration": 0.013975,
     "end_time": "2023-11-19T23:33:02.163953",
     "exception": false,
     "start_time": "2023-11-19T23:33:02.149978",
     "status": "completed"
    },
    "tags": []
   },
   "outputs": [],
   "source": [
    "Selects.insert(0,X_Prompt)"
   ]
  },
  {
   "cell_type": "code",
   "execution_count": 9,
   "id": "efd981c8",
   "metadata": {
    "execution": {
     "iopub.execute_input": "2023-11-19T23:33:02.180375Z",
     "iopub.status.busy": "2023-11-19T23:33:02.180135Z",
     "iopub.status.idle": "2023-11-19T23:33:02.195130Z",
     "shell.execute_reply": "2023-11-19T23:33:02.194254Z"
    },
    "papermill": {
     "duration": 0.025281,
     "end_time": "2023-11-19T23:33:02.197161",
     "exception": false,
     "start_time": "2023-11-19T23:33:02.171880",
     "status": "completed"
    },
    "tags": []
   },
   "outputs": [],
   "source": [
    "labels = [result.get('labels')[i] for i in result.get('labels') ]\n",
    "labels_one_hot = result.get('label_onehot')\n",
    "labels_one_hot_train = tf.one_hot(labels_one_hot, depth=5)"
   ]
  },
  {
   "cell_type": "code",
   "execution_count": 10,
   "id": "b8cf347b",
   "metadata": {
    "execution": {
     "iopub.execute_input": "2023-11-19T23:33:02.213283Z",
     "iopub.status.busy": "2023-11-19T23:33:02.213021Z",
     "iopub.status.idle": "2023-11-19T23:33:02.236888Z",
     "shell.execute_reply": "2023-11-19T23:33:02.236129Z"
    },
    "papermill": {
     "duration": 0.033997,
     "end_time": "2023-11-19T23:33:02.238688",
     "exception": false,
     "start_time": "2023-11-19T23:33:02.204691",
     "status": "completed"
    },
    "tags": []
   },
   "outputs": [],
   "source": [
    "path_val = ['/kaggle/input/kaggle-llm-science-exam/train.csv']\n",
    "result_val = read_data(path_val ,False)\n",
    "X_Prompt_val  = result_val .get('Prompt') \n",
    "X_A_val  = result_val .get('Selects').get('A')\n",
    "X_B_val  = result_val .get('Selects').get('B')\n",
    "X_C_val  = result_val .get('Selects').get('C')\n",
    "X_D_val  = result_val .get('Selects').get('D')\n",
    "X_E_val  = result_val .get('Selects').get('E')\n",
    "\n",
    "Selects_val  = [result_val .get('Selects')[i] for i in result_val .get('Selects') ]\n",
    "Selects_val .insert(0,X_Prompt_val )\n",
    "labels_val  = [result_val .get('labels')[i] for i in result_val .get('labels') ]\n",
    "labels_one = result_val .get('label_onehot')\n",
    "labels_one_hot_val = tf.one_hot(labels_one, depth=5)"
   ]
  },
  {
   "cell_type": "markdown",
   "id": "a18d0320",
   "metadata": {
    "papermill": {
     "duration": 0.007429,
     "end_time": "2023-11-19T23:33:02.253836",
     "exception": false,
     "start_time": "2023-11-19T23:33:02.246407",
     "status": "completed"
    },
    "tags": []
   },
   "source": [
    "**LOAD MODEL BERT**"
   ]
  },
  {
   "cell_type": "code",
   "execution_count": 11,
   "id": "9c35fc2b",
   "metadata": {
    "execution": {
     "iopub.execute_input": "2023-11-19T23:33:02.270149Z",
     "iopub.status.busy": "2023-11-19T23:33:02.269877Z",
     "iopub.status.idle": "2023-11-19T23:33:18.532862Z",
     "shell.execute_reply": "2023-11-19T23:33:18.532024Z"
    },
    "papermill": {
     "duration": 16.273887,
     "end_time": "2023-11-19T23:33:18.535367",
     "exception": false,
     "start_time": "2023-11-19T23:33:02.261480",
     "status": "completed"
    },
    "tags": []
   },
   "outputs": [],
   "source": [
    "bert_preprocess = hub.KerasLayer(\"/kaggle/input/bert/tensorflow2/en-uncased-preprocess/3\")\n",
    "bert_encoder = hub.KerasLayer(\"/kaggle/input/bert/tensorflow2/bert-en-uncased-l-12-h-768-a-12/2\")"
   ]
  },
  {
   "cell_type": "markdown",
   "id": "707ce499",
   "metadata": {
    "papermill": {
     "duration": 0.007861,
     "end_time": "2023-11-19T23:33:18.551749",
     "exception": false,
     "start_time": "2023-11-19T23:33:18.543888",
     "status": "completed"
    },
    "tags": []
   },
   "source": [
    "**BUILD MODEL**"
   ]
  },
  {
   "cell_type": "code",
   "execution_count": 12,
   "id": "33cefd34",
   "metadata": {
    "execution": {
     "iopub.execute_input": "2023-11-19T23:33:18.568696Z",
     "iopub.status.busy": "2023-11-19T23:33:18.568355Z",
     "iopub.status.idle": "2023-11-19T23:33:19.219157Z",
     "shell.execute_reply": "2023-11-19T23:33:19.218033Z"
    },
    "papermill": {
     "duration": 0.662416,
     "end_time": "2023-11-19T23:33:19.221875",
     "exception": false,
     "start_time": "2023-11-19T23:33:18.559459",
     "status": "completed"
    },
    "tags": []
   },
   "outputs": [],
   "source": [
    "text_Prompt = tf.keras.layers.Input(shape=(), dtype=tf.string)\n",
    "text_A = tf.keras.layers.Input(shape=(), dtype=tf.string)\n",
    "text_B = tf.keras.layers.Input(shape=(), dtype=tf.string)\n",
    "text_C = tf.keras.layers.Input(shape=(), dtype=tf.string)\n",
    "text_D = tf.keras.layers.Input(shape=(), dtype=tf.string)\n",
    "text_E = tf.keras.layers.Input(shape=(), dtype=tf.string)\n",
    "\n",
    "encoder_prompt_input = bert_preprocess(text_Prompt)\n",
    "encoder_A_input = bert_preprocess(text_A)\n",
    "encoder_B_input = bert_preprocess(text_B)\n",
    "encoder_C_input = bert_preprocess(text_C)\n",
    "encoder_D_input = bert_preprocess(text_D)\n",
    "encoder_E_input = bert_preprocess(text_E)"
   ]
  },
  {
   "cell_type": "code",
   "execution_count": 13,
   "id": "029e917f",
   "metadata": {
    "execution": {
     "iopub.execute_input": "2023-11-19T23:33:19.239656Z",
     "iopub.status.busy": "2023-11-19T23:33:19.238861Z",
     "iopub.status.idle": "2023-11-19T23:33:22.563646Z",
     "shell.execute_reply": "2023-11-19T23:33:22.562654Z"
    },
    "papermill": {
     "duration": 3.384501,
     "end_time": "2023-11-19T23:33:22.614574",
     "exception": false,
     "start_time": "2023-11-19T23:33:19.230073",
     "status": "completed"
    },
    "tags": []
   },
   "outputs": [
    {
     "name": "stdout",
     "output_type": "stream",
     "text": [
      "(None, 3072)\n",
      "reshape:  (None, 4, 768)\n",
      "Model: \"model\"\n",
      "__________________________________________________________________________________________________\n",
      " Layer (type)                   Output Shape         Param #     Connected to                     \n",
      "==================================================================================================\n",
      " input_1 (InputLayer)           [(None,)]            0           []                               \n",
      "                                                                                                  \n",
      " input_2 (InputLayer)           [(None,)]            0           []                               \n",
      "                                                                                                  \n",
      " input_3 (InputLayer)           [(None,)]            0           []                               \n",
      "                                                                                                  \n",
      " input_4 (InputLayer)           [(None,)]            0           []                               \n",
      "                                                                                                  \n",
      " input_5 (InputLayer)           [(None,)]            0           []                               \n",
      "                                                                                                  \n",
      " input_6 (InputLayer)           [(None,)]            0           []                               \n",
      "                                                                                                  \n",
      " keras_layer (KerasLayer)       {'input_type_ids':   0           ['input_1[0][0]',                \n",
      "                                (None, 128),                      'input_2[0][0]',                \n",
      "                                 'input_mask': (Non               'input_3[0][0]',                \n",
      "                                e, 128),                          'input_4[0][0]',                \n",
      "                                 'input_word_ids':                'input_5[0][0]',                \n",
      "                                (None, 128)}                      'input_6[0][0]']                \n",
      "                                                                                                  \n",
      " keras_layer_1 (KerasLayer)     {'encoder_outputs':  109482241   ['keras_layer[0][0]',            \n",
      "                                 [(None, 128, 768),               'keras_layer[0][1]',            \n",
      "                                 (None, 128, 768),                'keras_layer[0][2]',            \n",
      "                                 (None, 128, 768),                'keras_layer[0][0]',            \n",
      "                                 (None, 128, 768),                'keras_layer[0][1]',            \n",
      "                                 (None, 128, 768),                'keras_layer[0][2]',            \n",
      "                                 (None, 128, 768),                'keras_layer[0][0]',            \n",
      "                                 (None, 128, 768),                'keras_layer[0][1]',            \n",
      "                                 (None, 128, 768),                'keras_layer[0][2]',            \n",
      "                                 (None, 128, 768),                'keras_layer[0][0]',            \n",
      "                                 (None, 128, 768),                'keras_layer[0][1]',            \n",
      "                                 (None, 128, 768),                'keras_layer[0][2]',            \n",
      "                                 (None, 128, 768)],               'keras_layer[1][0]',            \n",
      "                                 'default': (None,                'keras_layer[1][1]',            \n",
      "                                768),                             'keras_layer[1][2]',            \n",
      "                                 'sequence_output':               'keras_layer[1][0]',            \n",
      "                                 (None, 128, 768),                'keras_layer[1][1]',            \n",
      "                                 'pooled_output': (               'keras_layer[1][2]',            \n",
      "                                None, 768)}                       'keras_layer[1][0]',            \n",
      "                                                                  'keras_layer[1][1]',            \n",
      "                                                                  'keras_layer[1][2]',            \n",
      "                                                                  'keras_layer[1][0]',            \n",
      "                                                                  'keras_layer[1][1]',            \n",
      "                                                                  'keras_layer[1][2]',            \n",
      "                                                                  'keras_layer[2][0]',            \n",
      "                                                                  'keras_layer[2][1]',            \n",
      "                                                                  'keras_layer[2][2]',            \n",
      "                                                                  'keras_layer[2][0]',            \n",
      "                                                                  'keras_layer[2][1]',            \n",
      "                                                                  'keras_layer[2][2]',            \n",
      "                                                                  'keras_layer[2][0]',            \n",
      "                                                                  'keras_layer[2][1]',            \n",
      "                                                                  'keras_layer[2][2]',            \n",
      "                                                                  'keras_layer[2][0]',            \n",
      "                                                                  'keras_layer[2][1]',            \n",
      "                                                                  'keras_layer[2][2]',            \n",
      "                                                                  'keras_layer[3][0]',            \n",
      "                                                                  'keras_layer[3][1]',            \n",
      "                                                                  'keras_layer[3][2]',            \n",
      "                                                                  'keras_layer[3][0]',            \n",
      "                                                                  'keras_layer[3][1]',            \n",
      "                                                                  'keras_layer[3][2]',            \n",
      "                                                                  'keras_layer[3][0]',            \n",
      "                                                                  'keras_layer[3][1]',            \n",
      "                                                                  'keras_layer[3][2]',            \n",
      "                                                                  'keras_layer[3][0]',            \n",
      "                                                                  'keras_layer[3][1]',            \n",
      "                                                                  'keras_layer[3][2]',            \n",
      "                                                                  'keras_layer[4][0]',            \n",
      "                                                                  'keras_layer[4][1]',            \n",
      "                                                                  'keras_layer[4][2]',            \n",
      "                                                                  'keras_layer[4][0]',            \n",
      "                                                                  'keras_layer[4][1]',            \n",
      "                                                                  'keras_layer[4][2]',            \n",
      "                                                                  'keras_layer[4][0]',            \n",
      "                                                                  'keras_layer[4][1]',            \n",
      "                                                                  'keras_layer[4][2]',            \n",
      "                                                                  'keras_layer[4][0]',            \n",
      "                                                                  'keras_layer[4][1]',            \n",
      "                                                                  'keras_layer[4][2]',            \n",
      "                                                                  'keras_layer[5][0]',            \n",
      "                                                                  'keras_layer[5][1]',            \n",
      "                                                                  'keras_layer[5][2]',            \n",
      "                                                                  'keras_layer[5][0]',            \n",
      "                                                                  'keras_layer[5][1]',            \n",
      "                                                                  'keras_layer[5][2]',            \n",
      "                                                                  'keras_layer[5][0]',            \n",
      "                                                                  'keras_layer[5][1]',            \n",
      "                                                                  'keras_layer[5][2]',            \n",
      "                                                                  'keras_layer[5][0]',            \n",
      "                                                                  'keras_layer[5][1]',            \n",
      "                                                                  'keras_layer[5][2]']            \n",
      "                                                                                                  \n",
      " hidden_states_prompt_1 (Concat  (None, 128, 3072)   0           ['keras_layer_1[0][9]',          \n",
      " enate)                                                           'keras_layer_1[1][10]',         \n",
      "                                                                  'keras_layer_1[2][11]',         \n",
      "                                                                  'keras_layer_1[3][12]']         \n",
      "                                                                                                  \n",
      " hidden_states_A (Concatenate)  (None, 128, 3072)    0           ['keras_layer_1[4][9]',          \n",
      "                                                                  'keras_layer_1[5][10]',         \n",
      "                                                                  'keras_layer_1[6][11]',         \n",
      "                                                                  'keras_layer_1[7][12]']         \n",
      "                                                                                                  \n",
      " hidden_states_B (Concatenate)  (None, 128, 3072)    0           ['keras_layer_1[8][9]',          \n",
      "                                                                  'keras_layer_1[9][10]',         \n",
      "                                                                  'keras_layer_1[10][11]',        \n",
      "                                                                  'keras_layer_1[11][12]']        \n",
      "                                                                                                  \n",
      " hidden_states_C (Concatenate)  (None, 128, 3072)    0           ['keras_layer_1[12][9]',         \n",
      "                                                                  'keras_layer_1[13][10]',        \n",
      "                                                                  'keras_layer_1[14][11]',        \n",
      "                                                                  'keras_layer_1[15][12]']        \n",
      "                                                                                                  \n",
      " hidden_states_D (Concatenate)  (None, 128, 3072)    0           ['keras_layer_1[16][9]',         \n",
      "                                                                  'keras_layer_1[17][10]',        \n",
      "                                                                  'keras_layer_1[18][11]',        \n",
      "                                                                  'keras_layer_1[19][12]']        \n",
      "                                                                                                  \n",
      " hidden_states_E (Concatenate)  (None, 128, 3072)    0           ['keras_layer_1[20][9]',         \n",
      "                                                                  'keras_layer_1[21][10]',        \n",
      "                                                                  'keras_layer_1[22][11]',        \n",
      "                                                                  'keras_layer_1[23][12]']        \n",
      "                                                                                                  \n",
      " tf.__operators__.getitem (Slic  (None, 3072)        0           ['hidden_states_prompt_1[0][0]'] \n",
      " ingOpLambda)                                                                                     \n",
      "                                                                                                  \n",
      " tf.__operators__.getitem_1 (Sl  (None, 3072)        0           ['hidden_states_A[0][0]']        \n",
      " icingOpLambda)                                                                                   \n",
      "                                                                                                  \n",
      " tf.__operators__.getitem_2 (Sl  (None, 3072)        0           ['hidden_states_B[0][0]']        \n",
      " icingOpLambda)                                                                                   \n",
      "                                                                                                  \n",
      " tf.__operators__.getitem_3 (Sl  (None, 3072)        0           ['hidden_states_C[0][0]']        \n",
      " icingOpLambda)                                                                                   \n",
      "                                                                                                  \n",
      " tf.__operators__.getitem_4 (Sl  (None, 3072)        0           ['hidden_states_D[0][0]']        \n",
      " icingOpLambda)                                                                                   \n",
      "                                                                                                  \n",
      " tf.__operators__.getitem_5 (Sl  (None, 3072)        0           ['hidden_states_E[0][0]']        \n",
      " icingOpLambda)                                                                                   \n",
      "                                                                                                  \n",
      " tf.reshape (TFOpLambda)        (None, 4, 768)       0           ['tf.__operators__.getitem[0][0]'\n",
      "                                                                 ]                                \n",
      "                                                                                                  \n",
      " tf.reshape_1 (TFOpLambda)      (None, 4, 768)       0           ['tf.__operators__.getitem_1[0][0\n",
      "                                                                 ]']                              \n",
      "                                                                                                  \n",
      " tf.reshape_2 (TFOpLambda)      (None, 4, 768)       0           ['tf.__operators__.getitem_2[0][0\n",
      "                                                                 ]']                              \n",
      "                                                                                                  \n",
      " tf.reshape_3 (TFOpLambda)      (None, 4, 768)       0           ['tf.__operators__.getitem_3[0][0\n",
      "                                                                 ]']                              \n",
      "                                                                                                  \n",
      " tf.reshape_4 (TFOpLambda)      (None, 4, 768)       0           ['tf.__operators__.getitem_4[0][0\n",
      "                                                                 ]']                              \n",
      "                                                                                                  \n",
      " tf.reshape_5 (TFOpLambda)      (None, 4, 768)       0           ['tf.__operators__.getitem_5[0][0\n",
      "                                                                 ]']                              \n",
      "                                                                                                  \n",
      " concatenate (Concatenate)      (None, 24, 768)      0           ['tf.reshape[0][0]',             \n",
      "                                                                  'tf.reshape_1[0][0]',           \n",
      "                                                                  'tf.reshape_2[0][0]',           \n",
      "                                                                  'tf.reshape_3[0][0]',           \n",
      "                                                                  'tf.reshape_4[0][0]',           \n",
      "                                                                  'tf.reshape_5[0][0]']           \n",
      "                                                                                                  \n",
      " lstm (LSTM)                    (None, 24, 32)       102528      ['concatenate[0][0]']            \n",
      "                                                                                                  \n",
      " dense (Dense)                  (None, 24, 32)       1056        ['lstm[0][0]']                   \n",
      "                                                                                                  \n",
      " dropout (Dropout)              (None, 24, 32)       0           ['dense[0][0]']                  \n",
      "                                                                                                  \n",
      " layer_normalization (LayerNorm  (None, 24, 32)      64          ['dropout[0][0]']                \n",
      " alization)                                                                                       \n",
      "                                                                                                  \n",
      " dropout_1 (Dropout)            (None, 24, 32)       0           ['layer_normalization[0][0]']    \n",
      "                                                                                                  \n",
      " flatten (Flatten)              (None, 768)          0           ['dropout_1[0][0]']              \n",
      "                                                                                                  \n",
      " dense_1 (Dense)                (None, 5)            3845        ['flatten[0][0]']                \n",
      "                                                                                                  \n",
      " dense_2 (Dense)                (None, 5)            30          ['dense_1[0][0]']                \n",
      "                                                                                                  \n",
      "==================================================================================================\n",
      "Total params: 109,589,764\n",
      "Trainable params: 107,523\n",
      "Non-trainable params: 109,482,241\n",
      "__________________________________________________________________________________________________\n"
     ]
    }
   ],
   "source": [
    "encoder_prompt = concatenate(\n",
    "        tuple([bert_encoder(encoder_prompt_input)['encoder_outputs'][i] for i in range(-4, 0)]), \n",
    "        name = 'hidden_states_prompt_1',\n",
    "        axis = -1\n",
    "    )[:, 0, :]\n",
    "encoder_A = concatenate(\n",
    "        tuple([bert_encoder(encoder_A_input)['encoder_outputs'][i] for i in range(-4, 0)]), \n",
    "        name = 'hidden_states_A',\n",
    "        axis = -1\n",
    "    )[:, 0, :]\n",
    "encoder_B = concatenate(\n",
    "        tuple([bert_encoder(encoder_B_input)['encoder_outputs'][i] for i in range(-4, 0)]), \n",
    "        name = 'hidden_states_B',\n",
    "        axis = -1\n",
    "    )[:, 0, :]\n",
    "encoder_C = concatenate(\n",
    "        tuple([bert_encoder(encoder_C_input)['encoder_outputs'][i] for i in range(-4, 0)]), \n",
    "        name = 'hidden_states_C',\n",
    "        axis = -1\n",
    "    )[:, 0, :]\n",
    "encoder_D = concatenate(\n",
    "        tuple([bert_encoder(encoder_D_input)['encoder_outputs'][i] for i in range(-4, 0)]), \n",
    "        name = 'hidden_states_D',\n",
    "        axis = -1\n",
    "    )[:, 0, :]\n",
    "encoder_E = concatenate(\n",
    "        tuple([bert_encoder(encoder_E_input)['encoder_outputs'][i] for i in range(-4, 0)]), \n",
    "        name = 'hidden_states_E',\n",
    "        axis = -1\n",
    "    )[:, 0, :]\n",
    "print(encoder_E.shape)\n",
    "\n",
    "reshape_prompt = tf.reshape(encoder_prompt, (-1, 4, 768))\n",
    "reshape_A = tf.reshape(encoder_A, (-1, 4, 768))\n",
    "reshape_B = tf.reshape(encoder_B, (-1, 4, 768))\n",
    "reshape_C = tf.reshape(encoder_C, (-1, 4, 768))\n",
    "reshape_D = tf.reshape(encoder_D, (-1, 4, 768))\n",
    "reshape_E = tf.reshape(encoder_E, (-1, 4, 768))\n",
    "print('reshape: ', reshape_A.shape)\n",
    "# layer A\n",
    "concat_encoder_A = concatenate([reshape_prompt,reshape_A,reshape_B,reshape_C,reshape_D,reshape_E],axis = 1)\n",
    "LSTM = tf.keras.layers.LSTM(units=32,dropout=0.2, recurrent_dropout=0.2,return_sequences=True)(concat_encoder_A)\n",
    "Dense_prompt_A = tf.keras.layers.Dense(32,activation = 'relu')(LSTM)\n",
    "Dense_prompt_A =  tf.keras.layers.Dropout(0.3)(Dense_prompt_A)\n",
    "Dense_prompt_A = tf.keras.layers.LayerNormalization()(Dense_prompt_A)\n",
    "Linear_A =  tf.keras.layers.Dropout(0.3)(Dense_prompt_A)\n",
    "classifer = keras.layers.Flatten()(Linear_A)\n",
    "classifer = tf.keras.layers.Dense(5,activation = 'linear')(classifer)\n",
    "classifer =  tf.keras.layers.Dense(5,activation = 'softmax')(classifer)\n",
    "\n",
    "model = keras.Model(inputs=[text_Prompt, text_A,text_B,text_C,text_D,text_E], outputs=classifer)\n",
    "model.compile(optimizer = 'adam',loss = 'categorical_crossentropy',metrics = ['accuracy'])\n",
    "model.summary()"
   ]
  },
  {
   "cell_type": "code",
   "execution_count": 14,
   "id": "5e1e55eb",
   "metadata": {
    "execution": {
     "iopub.execute_input": "2023-11-19T23:33:22.661445Z",
     "iopub.status.busy": "2023-11-19T23:33:22.661152Z",
     "iopub.status.idle": "2023-11-19T23:33:22.665650Z",
     "shell.execute_reply": "2023-11-19T23:33:22.664880Z"
    },
    "papermill": {
     "duration": 0.029654,
     "end_time": "2023-11-19T23:33:22.667557",
     "exception": false,
     "start_time": "2023-11-19T23:33:22.637903",
     "status": "completed"
    },
    "tags": []
   },
   "outputs": [],
   "source": [
    "EarlyStopping = tf.keras.callbacks.EarlyStopping(\n",
    "                    monitor=\"val_loss\",\n",
    "                    patience=10,\n",
    "                    restore_best_weights=True,\n",
    "                )"
   ]
  },
  {
   "cell_type": "code",
   "execution_count": 15,
   "id": "389166fd",
   "metadata": {
    "execution": {
     "iopub.execute_input": "2023-11-19T23:33:22.712967Z",
     "iopub.status.busy": "2023-11-19T23:33:22.712717Z",
     "iopub.status.idle": "2023-11-19T23:33:22.716545Z",
     "shell.execute_reply": "2023-11-19T23:33:22.715788Z"
    },
    "papermill": {
     "duration": 0.028183,
     "end_time": "2023-11-19T23:33:22.718416",
     "exception": false,
     "start_time": "2023-11-19T23:33:22.690233",
     "status": "completed"
    },
    "tags": []
   },
   "outputs": [],
   "source": [
    "# print(Selects[0][0])\n",
    "# print('A')\n",
    "# print(Selects[1][0])\n",
    "# print('B')\n",
    "# print(Selects[2][0])\n",
    "# print('C')\n",
    "# print(Selects[3][0])\n",
    "# print('D')\n",
    "# print(Selects[4][0])\n",
    "# print('E')\n",
    "# print(Selects[5][0])\n"
   ]
  },
  {
   "cell_type": "code",
   "execution_count": 16,
   "id": "68fe8c65",
   "metadata": {
    "execution": {
     "iopub.execute_input": "2023-11-19T23:33:22.762838Z",
     "iopub.status.busy": "2023-11-19T23:33:22.762539Z",
     "iopub.status.idle": "2023-11-20T00:24:04.696686Z",
     "shell.execute_reply": "2023-11-20T00:24:04.695725Z"
    },
    "papermill": {
     "duration": 3042.036592,
     "end_time": "2023-11-20T00:24:04.776714",
     "exception": false,
     "start_time": "2023-11-19T23:33:22.740122",
     "status": "completed"
    },
    "tags": []
   },
   "outputs": [
    {
     "name": "stdout",
     "output_type": "stream",
     "text": [
      "Epoch 1/50\n",
      "60/60 [==============================] - 296s 4s/step - loss: 2.1714 - accuracy: 0.1911 - val_loss: 1.6938 - val_accuracy: 0.1850\n",
      "Epoch 2/50\n",
      "60/60 [==============================] - 230s 4s/step - loss: 1.9337 - accuracy: 0.2042 - val_loss: 1.6061 - val_accuracy: 0.2700\n",
      "Epoch 3/50\n",
      "60/60 [==============================] - 230s 4s/step - loss: 1.7803 - accuracy: 0.1964 - val_loss: 1.5970 - val_accuracy: 0.2350\n",
      "Epoch 4/50\n",
      "60/60 [==============================] - 226s 4s/step - loss: 1.7085 - accuracy: 0.1977 - val_loss: 1.5982 - val_accuracy: 0.2150\n",
      "Epoch 5/50\n",
      "60/60 [==============================] - 229s 4s/step - loss: 1.6769 - accuracy: 0.2104 - val_loss: 1.6053 - val_accuracy: 0.2150\n",
      "Epoch 6/50\n",
      "60/60 [==============================] - 229s 4s/step - loss: 1.6546 - accuracy: 0.1927 - val_loss: 1.6139 - val_accuracy: 0.2200\n",
      "Epoch 7/50\n",
      "60/60 [==============================] - 226s 4s/step - loss: 1.6525 - accuracy: 0.1845 - val_loss: 1.6187 - val_accuracy: 0.1850\n",
      "Epoch 8/50\n",
      "60/60 [==============================] - 229s 4s/step - loss: 1.6317 - accuracy: 0.2135 - val_loss: 1.6341 - val_accuracy: 0.1900\n",
      "Epoch 9/50\n",
      "60/60 [==============================] - 229s 4s/step - loss: 1.6384 - accuracy: 0.1917 - val_loss: 1.6133 - val_accuracy: 0.1850\n",
      "Epoch 10/50\n",
      "60/60 [==============================] - 230s 4s/step - loss: 1.6236 - accuracy: 0.2057 - val_loss: 1.6001 - val_accuracy: 0.2400\n",
      "Epoch 11/50\n",
      "60/60 [==============================] - 227s 4s/step - loss: 1.6274 - accuracy: 0.2141 - val_loss: 1.6254 - val_accuracy: 0.1850\n",
      "Epoch 12/50\n",
      "60/60 [==============================] - 230s 4s/step - loss: 1.6233 - accuracy: 0.2188 - val_loss: 1.6200 - val_accuracy: 0.1850\n",
      "Epoch 13/50\n",
      "60/60 [==============================] - 230s 4s/step - loss: 1.6218 - accuracy: 0.2031 - val_loss: 1.5997 - val_accuracy: 0.2400\n"
     ]
    },
    {
     "data": {
      "text/plain": [
       "<keras.callbacks.History at 0x7a83e1549c90>"
      ]
     },
     "execution_count": 16,
     "metadata": {},
     "output_type": "execute_result"
    }
   ],
   "source": [
    "model.fit(x = Selects,y = labels_one_hot_train,batch_size=32,\n",
    "          epochs=50,  steps_per_epoch=60,\n",
    "         validation_data=(Selects_val, labels_one_hot_val) , callbacks=[EarlyStopping])# 50 epoch"
   ]
  },
  {
   "cell_type": "code",
   "execution_count": 17,
   "id": "40d70005",
   "metadata": {
    "execution": {
     "iopub.execute_input": "2023-11-20T00:24:04.940870Z",
     "iopub.status.busy": "2023-11-20T00:24:04.940532Z",
     "iopub.status.idle": "2023-11-20T00:24:04.944521Z",
     "shell.execute_reply": "2023-11-20T00:24:04.943779Z"
    },
    "papermill": {
     "duration": 0.08751,
     "end_time": "2023-11-20T00:24:04.946330",
     "exception": false,
     "start_time": "2023-11-20T00:24:04.858820",
     "status": "completed"
    },
    "tags": []
   },
   "outputs": [],
   "source": [
    "# model.save('19_epoch_13.h5')"
   ]
  },
  {
   "cell_type": "code",
   "execution_count": 18,
   "id": "a0fdd718",
   "metadata": {
    "execution": {
     "iopub.execute_input": "2023-11-20T00:24:05.115480Z",
     "iopub.status.busy": "2023-11-20T00:24:05.115162Z",
     "iopub.status.idle": "2023-11-20T00:24:05.119380Z",
     "shell.execute_reply": "2023-11-20T00:24:05.118542Z"
    },
    "papermill": {
     "duration": 0.09438,
     "end_time": "2023-11-20T00:24:05.121435",
     "exception": false,
     "start_time": "2023-11-20T00:24:05.027055",
     "status": "completed"
    },
    "tags": []
   },
   "outputs": [],
   "source": [
    "# y_predict = model.predict(Selects)\n",
    "# top_three_indices = (-y_predict).argsort(axis = 1)[:, :3].tolist()\n",
    "# top_max = np.argmax(y_predict,axis = -1)\n",
    "# report = classification_report(labels_one_hot, top_max)\n",
    "# print(report)"
   ]
  },
  {
   "cell_type": "code",
   "execution_count": 19,
   "id": "bbe5ff52",
   "metadata": {
    "execution": {
     "iopub.execute_input": "2023-11-20T00:24:05.297567Z",
     "iopub.status.busy": "2023-11-20T00:24:05.297285Z",
     "iopub.status.idle": "2023-11-20T00:24:05.301020Z",
     "shell.execute_reply": "2023-11-20T00:24:05.300296Z"
    },
    "papermill": {
     "duration": 0.086818,
     "end_time": "2023-11-20T00:24:05.302821",
     "exception": false,
     "start_time": "2023-11-20T00:24:05.216003",
     "status": "completed"
    },
    "tags": []
   },
   "outputs": [],
   "source": [
    "# count = 0\n",
    "# for i in range(len(labels_one_hot)):\n",
    "#     if labels_one_hot[i] in top_three_indices[i]:\n",
    "#         count +=1\n",
    "# print(count)"
   ]
  },
  {
   "cell_type": "code",
   "execution_count": 20,
   "id": "57cf8cae",
   "metadata": {
    "execution": {
     "iopub.execute_input": "2023-11-20T00:24:05.465371Z",
     "iopub.status.busy": "2023-11-20T00:24:05.465100Z",
     "iopub.status.idle": "2023-11-20T00:24:42.144158Z",
     "shell.execute_reply": "2023-11-20T00:24:42.143150Z"
    },
    "papermill": {
     "duration": 36.762016,
     "end_time": "2023-11-20T00:24:42.146057",
     "exception": false,
     "start_time": "2023-11-20T00:24:05.384041",
     "status": "completed"
    },
    "tags": []
   },
   "outputs": [
    {
     "name": "stdout",
     "output_type": "stream",
     "text": [
      "7/7 [==============================] - 37s 3s/step\n",
      "              precision    recall  f1-score   support\n",
      "\n",
      "           0       0.14      0.08      0.10        37\n",
      "           1       0.30      0.48      0.37        48\n",
      "           2       0.22      0.48      0.30        44\n",
      "           3       0.00      0.00      0.00        38\n",
      "           4       0.00      0.00      0.00        33\n",
      "\n",
      "    accuracy                           0.23       200\n",
      "   macro avg       0.13      0.21      0.15       200\n",
      "weighted avg       0.15      0.23      0.17       200\n",
      "\n"
     ]
    }
   ],
   "source": [
    "y_predict = model.predict(Selects_val)\n",
    "top_three_indices = (-y_predict).argsort(axis = 1)[:, :3].tolist()\n",
    "top_max = np.argmax(y_predict,axis = -1)\n",
    "report = classification_report(labels_one, top_max)\n",
    "print(report)"
   ]
  },
  {
   "cell_type": "code",
   "execution_count": 21,
   "id": "3d7ecef2",
   "metadata": {
    "execution": {
     "iopub.execute_input": "2023-11-20T00:24:42.312034Z",
     "iopub.status.busy": "2023-11-20T00:24:42.311704Z",
     "iopub.status.idle": "2023-11-20T00:24:42.316853Z",
     "shell.execute_reply": "2023-11-20T00:24:42.315875Z"
    },
    "papermill": {
     "duration": 0.089762,
     "end_time": "2023-11-20T00:24:42.318701",
     "exception": false,
     "start_time": "2023-11-20T00:24:42.228939",
     "status": "completed"
    },
    "tags": []
   },
   "outputs": [
    {
     "name": "stdout",
     "output_type": "stream",
     "text": [
      "133\n"
     ]
    }
   ],
   "source": [
    "count = 0\n",
    "for i in range(len(labels_one)):\n",
    "    if labels_one[i] in top_three_indices[i]:\n",
    "        count +=1\n",
    "print(count)"
   ]
  },
  {
   "cell_type": "markdown",
   "id": "3a15748f",
   "metadata": {
    "papermill": {
     "duration": 0.081347,
     "end_time": "2023-11-20T00:24:42.481710",
     "exception": false,
     "start_time": "2023-11-20T00:24:42.400363",
     "status": "completed"
    },
    "tags": []
   },
   "source": [
    "**DATA TEST**"
   ]
  },
  {
   "cell_type": "code",
   "execution_count": 22,
   "id": "be457da9",
   "metadata": {
    "execution": {
     "iopub.execute_input": "2023-11-20T00:24:42.645924Z",
     "iopub.status.busy": "2023-11-20T00:24:42.645633Z",
     "iopub.status.idle": "2023-11-20T00:24:42.672653Z",
     "shell.execute_reply": "2023-11-20T00:24:42.671975Z"
    },
    "papermill": {
     "duration": 0.111201,
     "end_time": "2023-11-20T00:24:42.674563",
     "exception": false,
     "start_time": "2023-11-20T00:24:42.563362",
     "status": "completed"
    },
    "tags": []
   },
   "outputs": [],
   "source": [
    "path_test = ['/kaggle/input/kaggle-llm-science-exam/test.csv']\n",
    "result = read_data(path_test,True)\n",
    "X_Prompt = result.get('Prompt') \n",
    "X_A = result.get('Selects').get('A')\n",
    "X_B = result.get('Selects').get('B')\n",
    "X_C = result.get('Selects').get('C')\n",
    "X_D = result.get('Selects').get('D')\n",
    "X_E = result.get('Selects').get('E')\n",
    "\n",
    "Selects = [result.get('Selects')[i] for i in result.get('Selects') ]\n",
    "Selects.insert(0,X_Prompt)"
   ]
  },
  {
   "cell_type": "code",
   "execution_count": 23,
   "id": "84220992",
   "metadata": {
    "execution": {
     "iopub.execute_input": "2023-11-20T00:24:42.839366Z",
     "iopub.status.busy": "2023-11-20T00:24:42.839094Z",
     "iopub.status.idle": "2023-11-20T00:25:04.344574Z",
     "shell.execute_reply": "2023-11-20T00:25:04.343790Z"
    },
    "papermill": {
     "duration": 21.590255,
     "end_time": "2023-11-20T00:25:04.346529",
     "exception": false,
     "start_time": "2023-11-20T00:24:42.756274",
     "status": "completed"
    },
    "tags": []
   },
   "outputs": [
    {
     "name": "stdout",
     "output_type": "stream",
     "text": [
      "7/7 [==============================] - 21s 3s/step\n"
     ]
    }
   ],
   "source": [
    "y_predict = model.predict(Selects)\n",
    "top_three_indices = (-y_predict).argsort(axis = 1)[:, :3].tolist()"
   ]
  },
  {
   "cell_type": "code",
   "execution_count": 24,
   "id": "b7913eb4",
   "metadata": {
    "execution": {
     "iopub.execute_input": "2023-11-20T00:25:04.513287Z",
     "iopub.status.busy": "2023-11-20T00:25:04.512999Z",
     "iopub.status.idle": "2023-11-20T00:25:04.534343Z",
     "shell.execute_reply": "2023-11-20T00:25:04.533614Z"
    },
    "papermill": {
     "duration": 0.106655,
     "end_time": "2023-11-20T00:25:04.536285",
     "exception": false,
     "start_time": "2023-11-20T00:25:04.429630",
     "status": "completed"
    },
    "tags": []
   },
   "outputs": [],
   "source": [
    "# Mở tệp CSV để ghi\n",
    "df_resutl =  pd.read_csv(\"/kaggle/input/kaggle-llm-science-exam/sample_submission.csv\")\n",
    "x = ['A','B','C','D',\"E\"]\n",
    "Label_test = [' '.join([x[int(j)] for j in i]) for i in top_three_indices]\n",
    "\n",
    "for i in range(len(Label_test)):\n",
    "    df_resutl.at[i, 'prediction'] = str(Label_test[i])\n",
    "df_resutl.to_csv('/kaggle/working/submission.csv', index=False)"
   ]
  },
  {
   "cell_type": "code",
   "execution_count": null,
   "id": "a199f424",
   "metadata": {
    "papermill": {
     "duration": 0.082403,
     "end_time": "2023-11-20T00:25:04.700975",
     "exception": false,
     "start_time": "2023-11-20T00:25:04.618572",
     "status": "completed"
    },
    "tags": []
   },
   "outputs": [],
   "source": []
  }
 ],
 "metadata": {
  "kaggle": {
   "accelerator": "gpu",
   "dataSources": [
    {
     "databundleVersionId": 6169864,
     "sourceId": 54662,
     "sourceType": "competition"
    },
    {
     "datasetId": 3540289,
     "sourceId": 6175087,
     "sourceType": "datasetVersion"
    },
    {
     "datasetId": 3626780,
     "sourceId": 6315195,
     "sourceType": "datasetVersion"
    },
    {
     "datasetId": 3638263,
     "sourceId": 6363321,
     "sourceType": "datasetVersion"
    },
    {
     "modelInstanceId": 1910,
     "sourceId": 2644,
     "sourceType": "modelInstanceVersion"
    },
    {
     "modelInstanceId": 2180,
     "sourceId": 2938,
     "sourceType": "modelInstanceVersion"
    }
   ],
   "dockerImageVersionId": 30528,
   "isGpuEnabled": true,
   "isInternetEnabled": false,
   "language": "python",
   "sourceType": "notebook"
  },
  "kernelspec": {
   "display_name": "Python 3",
   "language": "python",
   "name": "python3"
  },
  "language_info": {
   "codemirror_mode": {
    "name": "ipython",
    "version": 3
   },
   "file_extension": ".py",
   "mimetype": "text/x-python",
   "name": "python",
   "nbconvert_exporter": "python",
   "pygments_lexer": "ipython3",
   "version": "3.10.12"
  },
  "papermill": {
   "default_parameters": {},
   "duration": 3146.854862,
   "end_time": "2023-11-20T00:25:07.859326",
   "environment_variables": {},
   "exception": null,
   "input_path": "__notebook__.ipynb",
   "output_path": "__notebook__.ipynb",
   "parameters": {},
   "start_time": "2023-11-19T23:32:41.004464",
   "version": "2.4.0"
  }
 },
 "nbformat": 4,
 "nbformat_minor": 5
}
